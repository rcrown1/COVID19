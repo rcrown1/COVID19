{
 "cells": [
  {
   "cell_type": "code",
   "execution_count": 6,
   "metadata": {},
   "outputs": [
    {
     "name": "stdout",
     "output_type": "stream",
     "text": [
      "Data Current as of:  2020-03-29 17:30:31 GMT\n"
     ]
    }
   ],
   "source": [
    "import pandas as pd\n",
    "url ='https://github.com/CSSEGISandData/COVID-19/raw/web-data/data/cases_country.csv'\n",
    "COVID = pd.read_csv(url)\n",
    "print('Data Current as of: ',COVID.Last_Update.max(),'GMT')\n",
    "COVID_cnts = COVID[['Country_Region','Deaths', 'Recovered']]"
   ]
  },
  {
   "cell_type": "code",
   "execution_count": 7,
   "metadata": {},
   "outputs": [
    {
     "name": "stdout",
     "output_type": "stream",
     "text": [
      "Case fatality ratio 4.188%\n"
     ]
    }
   ],
   "source": [
    "# Case fatality ratio based on Outcomes reported in China\n",
    "china_outcomes = COVID_cnts[COVID_cnts['Country_Region']=='China']\n",
    "deaths = china_outcomes['Deaths']\n",
    "recovered = china_outcomes['Recovered']\n",
    "CFR = ((deaths / (deaths+recovered))).values[0]\n",
    "print('Case fatality ratio {0:.3f}%'.format(CFR*100))"
   ]
  },
  {
   "cell_type": "code",
   "execution_count": 10,
   "metadata": {},
   "outputs": [
    {
     "name": "stdout",
     "output_type": "stream",
     "text": [
      "Projected U.S. Cases: 46,122,223\n",
      "    Projected Deaths: 1,931,747\n",
      "\n",
      "Worst Case Infection Count: 72,477,779 , Deaths: 3,035,603\n"
     ]
    }
   ],
   "source": [
    "#Projected US Deaths\n",
    "US_Pop = 329444452 # https://www.census.gov/popclock/\n",
    "Flu_Avg_Annual_Infection = (.03 +.11)/2 # 3-11% annually https://www.cdc.gov/flu/about/keyfacts.htm\n",
    "Projected_US_Cases = US_Pop * Flu_Avg_Annual_Infection * 2 # assuming twice as contagious\n",
    "Worst_Case_Infection = .11 *2 * US_Pop # High year for flu is 20%\n",
    "print('Projected U.S. Cases: {0:,.0f}'.format(Projected_US_Cases))\n",
    "print('    Projected Deaths: {0:,.0f}'.format(Projected_US_Cases * CFR))\n",
    "print('\\nWorst Case Infection Count: {0:,.0f} , Deaths: {1:,.0f}'.format(Worst_Case_Infection, Worst_Case_Infection*CFR))\n"
   ]
  },
  {
   "cell_type": "code",
   "execution_count": null,
   "metadata": {},
   "outputs": [],
   "source": []
  }
 ],
 "metadata": {
  "kernelspec": {
   "display_name": "Python 3",
   "language": "python",
   "name": "python3"
  },
  "language_info": {
   "codemirror_mode": {
    "name": "ipython",
    "version": 3
   },
   "file_extension": ".py",
   "mimetype": "text/x-python",
   "name": "python",
   "nbconvert_exporter": "python",
   "pygments_lexer": "ipython3",
   "version": "3.6.8"
  }
 },
 "nbformat": 4,
 "nbformat_minor": 2
}
